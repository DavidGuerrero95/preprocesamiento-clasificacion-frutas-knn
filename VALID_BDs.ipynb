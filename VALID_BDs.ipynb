{
 "cells": [
  {
   "cell_type": "markdown",
   "metadata": {},
   "source": [
    "<h1> Librerias Necesarias </h1>"
   ]
  },
  {
   "cell_type": "code",
   "execution_count": 1,
   "metadata": {},
   "outputs": [],
   "source": [
    "import pandas as pd\n",
    "import numpy as np\n",
    "import glob\n",
    "from sklearn.preprocessing import OrdinalEncoder\n",
    "import matplotlib.pyplot as plt \n",
    "import pickle\n",
    "\n",
    "import os"
   ]
  },
  {
   "cell_type": "markdown",
   "metadata": {},
   "source": [
    "<h1> Base de datos DANIEL-SAN </h1>"
   ]
  },
  {
   "cell_type": "markdown",
   "metadata": {},
   "source": [
    "<h3> 1. Lectura de los datos </h3>"
   ]
  },
  {
   "cell_type": "code",
   "execution_count": 3,
   "metadata": {},
   "outputs": [],
   "source": [
    "df_aguacate = pd.read_excel('/home/sistemic/Documents/12vo_Semestre/FundamentosIC/Avance2/frutas_valid/Aguacate.xlsx')\n",
    "df_banano = pd.read_excel('/home/sistemic/Documents/12vo_Semestre/FundamentosIC/Avance2/frutas_valid/Banano.xlsx')\n",
    "df_fresa = pd.read_excel('/home/sistemic/Documents/12vo_Semestre/FundamentosIC/Avance2/frutas_valid/Fresa.xlsx')\n",
    "df_limon = pd.read_excel('/home/sistemic/Documents/12vo_Semestre/FundamentosIC/Avance2/frutas_valid/Limon.xlsx')\n",
    "df_mango = pd.read_excel('/home/sistemic/Documents/12vo_Semestre/FundamentosIC/Avance2/frutas_valid/Mango.xlsx')\n",
    "df_manzana = pd.read_excel('/home/sistemic/Documents/12vo_Semestre/FundamentosIC/Avance2/frutas_valid/Manzana.xlsx')\n",
    "df_pera = pd.read_excel('/home/sistemic/Documents/12vo_Semestre/FundamentosIC/Avance2/frutas_valid/Pera.xlsx')\n",
    "df_tomate = pd.read_excel('/home/sistemic/Documents/12vo_Semestre/FundamentosIC/Avance2/frutas_valid/Tomate.xlsx')\n",
    "df_uchuva = pd.read_excel('/home/sistemic/Documents/12vo_Semestre/FundamentosIC/Avance2/frutas_valid/Uchuva.xlsx')\n",
    "df_uva = pd.read_excel('/home/sistemic/Documents/12vo_Semestre/FundamentosIC/Avance2/frutas_valid/Uva.xlsx')\n"
   ]
  },
  {
   "cell_type": "code",
   "execution_count": 4,
   "metadata": {},
   "outputs": [],
   "source": [
    "df_frutas =  pd.DataFrame(columns=['index', 'clase', 'azul', 'verde', 'rojo', 'area', 'ratio', 'textura','perimetro'])\n",
    "df_frutas = pd.concat([df_frutas,df_aguacate],ignore_index=True)\n",
    "df_frutas = pd.concat([df_frutas,df_banano],ignore_index=True)\n",
    "df_frutas = pd.concat([df_frutas,df_fresa],ignore_index=True)\n",
    "df_frutas = pd.concat([df_frutas,df_limon],ignore_index=True)\n",
    "df_frutas = pd.concat([df_frutas,df_mango],ignore_index=True)\n",
    "df_frutas = pd.concat([df_frutas,df_manzana],ignore_index=True)\n",
    "df_frutas = pd.concat([df_frutas,df_pera],ignore_index=True)\n",
    "df_frutas = pd.concat([df_frutas,df_tomate],ignore_index=True)\n",
    "df_frutas = pd.concat([df_frutas,df_uchuva],ignore_index=True)\n",
    "df_frutas = pd.concat([df_frutas,df_uva],ignore_index=True)\n",
    "df_frutas.drop(columns='index',inplace=True)\n",
    "df_frutas.to_excel('/home/sistemic/Documents/12vo_Semestre/FundamentosIC/Avance2/frutas_valid/FrutasValidDataset.xlsx') # Save DataFrame in xlsx\n",
    "#pickle.dump(df_frutas, open('Frutas_Dataset_Completo.pkl', 'wb'))"
   ]
  },
  {
   "cell_type": "markdown",
   "metadata": {},
   "source": [
    "<h3> 2. Limpieza de la base de datos </h3>"
   ]
  },
  {
   "cell_type": "code",
   "execution_count": 1780,
   "metadata": {},
   "outputs": [],
   "source": [
    "df_aguacate.drop(columns='Unnamed: 0',inplace=True)\n",
    "df_banano.drop(columns='Unnamed: 0',inplace=True)\n",
    "df_fresa.drop(columns='Unnamed: 0',inplace=True)\n",
    "df_limon.drop(columns='Unnamed: 0',inplace=True)\n",
    "df_mango.drop(columns='Unnamed: 0',inplace=True)\n",
    "df_manzana.drop(columns='Unnamed: 0',inplace=True)\n",
    "df_pera.drop(columns='Unnamed: 0',inplace=True)\n",
    "df_tomate.drop(columns='Unnamed: 0',inplace=True)\n",
    "df_uchuva.drop(columns='Unnamed: 0',inplace=True)\n",
    "df_uva.drop(columns='Unnamed: 0',inplace=True)"
   ]
  },
  {
   "cell_type": "code",
   "execution_count": 1781,
   "metadata": {},
   "outputs": [],
   "source": [
    "def concatenation(lista,value):\n",
    "    a = []\n",
    "    for i in range(len(lista)):\n",
    "        b = lista[i]\n",
    "        for j in lista:\n",
    "            if 0 < (b-j) <= value:\n",
    "                if i not in a:\n",
    "                    a.append(i)\n",
    "    return a"
   ]
  },
  {
   "cell_type": "code",
   "execution_count": 1782,
   "metadata": {},
   "outputs": [],
   "source": [
    "def eliminar(df,value):\n",
    "    azul = df.azul.to_list()\n",
    "    verde = df.verde.to_list()\n",
    "    rojo = df.rojo.to_list()\n",
    "    a = concatenation(azul,value)\n",
    "    v = concatenation(verde,value)\n",
    "    r = concatenation(rojo,value)\n",
    "    indices = list(set(a) & set(v) & set(r))\n",
    "    return indices"
   ]
  },
  {
   "cell_type": "code",
   "execution_count": 1783,
   "metadata": {},
   "outputs": [],
   "source": [
    "df = [df_aguacate, df_banano, df_fresa, df_limon, df_mango, df_manzana, df_pera, df_tomate, df_uchuva, df_uva]\n",
    "df_aguacate = df_aguacate.drop(df_aguacate.index[eliminar(df_aguacate,0.00029)])\n",
    "df_banano = df_banano.drop(df_banano.index[eliminar(df_banano,0.00094)])\n",
    "df_fresa = df_fresa.drop(df_fresa.index[eliminar(df_fresa,0.0008435)])\n",
    "df_limon = df_limon.drop(df_limon.index[eliminar(df_limon,0.00073)])\n",
    "df_mango = df_mango.drop(df_mango.index[eliminar(df_mango,0.000869)])\n",
    "df_manzana = df_manzana.drop(df_manzana.index[eliminar(df_manzana,0.0007472)])\n",
    "df_pera = df_pera.drop(df_pera.index[eliminar(df_pera,0.00048)])\n",
    "df_tomate = df_tomate.drop(df_tomate.index[eliminar(df_tomate,0.00054)])\n",
    "df_uchuva = df_uchuva.drop(df_uchuva.index[eliminar(df_uchuva,0.000696)])\n",
    "df_uva = df_uva.drop(df_uva.index[eliminar(df_uva,0.00042)])\n",
    "\n"
   ]
  },
  {
   "cell_type": "code",
   "execution_count": 1784,
   "metadata": {},
   "outputs": [
    {
     "name": "stdout",
     "output_type": "stream",
     "text": [
      "aguacate: 160\n",
      "banano: 160\n",
      "fresa: 160\n",
      "limon: 160\n",
      "mango: 160\n",
      "manzana: 160\n",
      "pera: 160\n",
      "tomate: 160\n",
      "uchuva: 160\n",
      "uva: 160\n"
     ]
    }
   ],
   "source": [
    "print(f'aguacate: {len(df_aguacate)}')\n",
    "print(f'banano: {len(df_banano)}')\n",
    "print(f'fresa: {len(df_fresa)}')\n",
    "print(f'limon: {len(df_limon)}')\n",
    "print(f'mango: {len(df_mango)}')\n",
    "print(f'manzana: {len(df_manzana)}')\n",
    "print(f'pera: {len(df_pera)}')\n",
    "print(f'tomate: {len(df_tomate)}')\n",
    "print(f'uchuva: {len(df_uchuva)}')\n",
    "print(f'uva: {len(df_uva)}')"
   ]
  },
  {
   "cell_type": "markdown",
   "metadata": {},
   "source": [
    "## Union Dataframes"
   ]
  },
  {
   "cell_type": "code",
   "execution_count": 1785,
   "metadata": {},
   "outputs": [
    {
     "data": {
      "text/html": [
       "<div>\n",
       "<style scoped>\n",
       "    .dataframe tbody tr th:only-of-type {\n",
       "        vertical-align: middle;\n",
       "    }\n",
       "\n",
       "    .dataframe tbody tr th {\n",
       "        vertical-align: top;\n",
       "    }\n",
       "\n",
       "    .dataframe thead th {\n",
       "        text-align: right;\n",
       "    }\n",
       "</style>\n",
       "<table border=\"1\" class=\"dataframe\">\n",
       "  <thead>\n",
       "    <tr style=\"text-align: right;\">\n",
       "      <th></th>\n",
       "      <th>clase</th>\n",
       "      <th>azul</th>\n",
       "      <th>verde</th>\n",
       "      <th>rojo</th>\n",
       "      <th>area</th>\n",
       "      <th>ratio</th>\n",
       "      <th>textura</th>\n",
       "      <th>perimetro</th>\n",
       "    </tr>\n",
       "  </thead>\n",
       "  <tbody>\n",
       "    <tr>\n",
       "      <th>0</th>\n",
       "      <td>0</td>\n",
       "      <td>0.092303</td>\n",
       "      <td>0.118585</td>\n",
       "      <td>0.219326</td>\n",
       "      <td>0.082703</td>\n",
       "      <td>0.871030</td>\n",
       "      <td>0.179955</td>\n",
       "      <td>271.065000</td>\n",
       "    </tr>\n",
       "    <tr>\n",
       "      <th>1</th>\n",
       "      <td>0</td>\n",
       "      <td>0.089207</td>\n",
       "      <td>0.129750</td>\n",
       "      <td>0.189085</td>\n",
       "      <td>0.081679</td>\n",
       "      <td>0.901072</td>\n",
       "      <td>0.188530</td>\n",
       "      <td>269.152500</td>\n",
       "    </tr>\n",
       "    <tr>\n",
       "      <th>2</th>\n",
       "      <td>0</td>\n",
       "      <td>0.096111</td>\n",
       "      <td>0.125859</td>\n",
       "      <td>0.216901</td>\n",
       "      <td>0.081855</td>\n",
       "      <td>0.843661</td>\n",
       "      <td>0.185271</td>\n",
       "      <td>270.873750</td>\n",
       "    </tr>\n",
       "    <tr>\n",
       "      <th>3</th>\n",
       "      <td>0</td>\n",
       "      <td>0.092736</td>\n",
       "      <td>0.173330</td>\n",
       "      <td>0.245831</td>\n",
       "      <td>0.076912</td>\n",
       "      <td>0.818726</td>\n",
       "      <td>0.213046</td>\n",
       "      <td>262.092188</td>\n",
       "    </tr>\n",
       "    <tr>\n",
       "      <th>4</th>\n",
       "      <td>0</td>\n",
       "      <td>0.088359</td>\n",
       "      <td>0.126321</td>\n",
       "      <td>0.208598</td>\n",
       "      <td>0.085322</td>\n",
       "      <td>0.849414</td>\n",
       "      <td>0.186796</td>\n",
       "      <td>272.719512</td>\n",
       "    </tr>\n",
       "    <tr>\n",
       "      <th>...</th>\n",
       "      <td>...</td>\n",
       "      <td>...</td>\n",
       "      <td>...</td>\n",
       "      <td>...</td>\n",
       "      <td>...</td>\n",
       "      <td>...</td>\n",
       "      <td>...</td>\n",
       "      <td>...</td>\n",
       "    </tr>\n",
       "    <tr>\n",
       "      <th>1595</th>\n",
       "      <td>9</td>\n",
       "      <td>0.158414</td>\n",
       "      <td>0.244494</td>\n",
       "      <td>0.424089</td>\n",
       "      <td>0.006697</td>\n",
       "      <td>0.923681</td>\n",
       "      <td>0.268108</td>\n",
       "      <td>68.591035</td>\n",
       "    </tr>\n",
       "    <tr>\n",
       "      <th>1596</th>\n",
       "      <td>9</td>\n",
       "      <td>0.114082</td>\n",
       "      <td>0.157558</td>\n",
       "      <td>0.336086</td>\n",
       "      <td>0.008858</td>\n",
       "      <td>0.938952</td>\n",
       "      <td>0.215155</td>\n",
       "      <td>34.295517</td>\n",
       "    </tr>\n",
       "    <tr>\n",
       "      <th>1597</th>\n",
       "      <td>9</td>\n",
       "      <td>0.115430</td>\n",
       "      <td>0.133695</td>\n",
       "      <td>0.305048</td>\n",
       "      <td>0.007872</td>\n",
       "      <td>0.910100</td>\n",
       "      <td>0.237166</td>\n",
       "      <td>42.775259</td>\n",
       "    </tr>\n",
       "    <tr>\n",
       "      <th>1598</th>\n",
       "      <td>9</td>\n",
       "      <td>0.097111</td>\n",
       "      <td>0.097932</td>\n",
       "      <td>0.231278</td>\n",
       "      <td>0.008126</td>\n",
       "      <td>0.862343</td>\n",
       "      <td>0.200323</td>\n",
       "      <td>40.465065</td>\n",
       "    </tr>\n",
       "    <tr>\n",
       "      <th>1599</th>\n",
       "      <td>9</td>\n",
       "      <td>0.087831</td>\n",
       "      <td>0.084944</td>\n",
       "      <td>0.213638</td>\n",
       "      <td>0.008147</td>\n",
       "      <td>0.815421</td>\n",
       "      <td>0.210018</td>\n",
       "      <td>20.232532</td>\n",
       "    </tr>\n",
       "  </tbody>\n",
       "</table>\n",
       "<p>1600 rows × 8 columns</p>\n",
       "</div>"
      ],
      "text/plain": [
       "     clase      azul     verde      rojo      area     ratio   textura  \\\n",
       "0        0  0.092303  0.118585  0.219326  0.082703  0.871030  0.179955   \n",
       "1        0  0.089207  0.129750  0.189085  0.081679  0.901072  0.188530   \n",
       "2        0  0.096111  0.125859  0.216901  0.081855  0.843661  0.185271   \n",
       "3        0  0.092736  0.173330  0.245831  0.076912  0.818726  0.213046   \n",
       "4        0  0.088359  0.126321  0.208598  0.085322  0.849414  0.186796   \n",
       "...    ...       ...       ...       ...       ...       ...       ...   \n",
       "1595     9  0.158414  0.244494  0.424089  0.006697  0.923681  0.268108   \n",
       "1596     9  0.114082  0.157558  0.336086  0.008858  0.938952  0.215155   \n",
       "1597     9  0.115430  0.133695  0.305048  0.007872  0.910100  0.237166   \n",
       "1598     9  0.097111  0.097932  0.231278  0.008126  0.862343  0.200323   \n",
       "1599     9  0.087831  0.084944  0.213638  0.008147  0.815421  0.210018   \n",
       "\n",
       "       perimetro  \n",
       "0     271.065000  \n",
       "1     269.152500  \n",
       "2     270.873750  \n",
       "3     262.092188  \n",
       "4     272.719512  \n",
       "...          ...  \n",
       "1595   68.591035  \n",
       "1596   34.295517  \n",
       "1597   42.775259  \n",
       "1598   40.465065  \n",
       "1599   20.232532  \n",
       "\n",
       "[1600 rows x 8 columns]"
      ]
     },
     "execution_count": 1785,
     "metadata": {},
     "output_type": "execute_result"
    }
   ],
   "source": [
    "df_frutas =  pd.DataFrame(columns=['index', 'clase', 'azul', 'verde', 'rojo', 'area', 'ratio', 'textura','perimetro'])\n",
    "df_frutas = pd.concat([df_frutas,df_aguacate],ignore_index=True)\n",
    "df_frutas = pd.concat([df_frutas,df_banano],ignore_index=True)\n",
    "df_frutas = pd.concat([df_frutas,df_fresa],ignore_index=True)\n",
    "df_frutas = pd.concat([df_frutas,df_limon],ignore_index=True)\n",
    "df_frutas = pd.concat([df_frutas,df_mango],ignore_index=True)\n",
    "df_frutas = pd.concat([df_frutas,df_manzana],ignore_index=True)\n",
    "df_frutas = pd.concat([df_frutas,df_pera],ignore_index=True)\n",
    "df_frutas = pd.concat([df_frutas,df_tomate],ignore_index=True)\n",
    "df_frutas = pd.concat([df_frutas,df_uchuva],ignore_index=True)\n",
    "df_frutas = pd.concat([df_frutas,df_uva],ignore_index=True)\n",
    "df_frutas.drop(columns='index',inplace=True)\n",
    "df_frutas"
   ]
  },
  {
   "cell_type": "code",
   "execution_count": 1786,
   "metadata": {},
   "outputs": [],
   "source": [
    "df_frutas.to_excel('/home/sistemic/Documents/12vo_Semestre/FundamentosIC/Avance3/FrutasDataset.xlsx') # Save DataFrame in xlsx\n",
    "pickle.dump(df_frutas, open('Frutas_Dataset.pkl', 'wb'))"
   ]
  },
  {
   "cell_type": "code",
   "execution_count": null,
   "metadata": {},
   "outputs": [],
   "source": []
  }
 ],
 "metadata": {
  "kernelspec": {
   "display_name": "Python 3.8.10 64-bit",
   "language": "python",
   "name": "python3"
  },
  "language_info": {
   "codemirror_mode": {
    "name": "ipython",
    "version": 3
   },
   "file_extension": ".py",
   "mimetype": "text/x-python",
   "name": "python",
   "nbconvert_exporter": "python",
   "pygments_lexer": "ipython3",
   "version": "3.8.10"
  },
  "orig_nbformat": 4,
  "vscode": {
   "interpreter": {
    "hash": "916dbcbb3f70747c44a77c7bcd40155683ae19c65e1c03b4aa3499c5328201f1"
   }
  }
 },
 "nbformat": 4,
 "nbformat_minor": 2
}
