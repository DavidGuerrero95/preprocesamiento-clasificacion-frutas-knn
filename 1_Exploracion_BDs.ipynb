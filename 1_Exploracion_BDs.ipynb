{
 "cells": [
  {
   "cell_type": "markdown",
   "metadata": {},
   "source": [
    "<h1> Librerias Necesarias </h1>"
   ]
  },
  {
   "cell_type": "code",
   "execution_count": 1787,
   "metadata": {},
   "outputs": [],
   "source": [
    "import pandas as pd\n",
    "import numpy as np\n",
    "import glob\n",
    "from sklearn.preprocessing import OrdinalEncoder\n",
    "import matplotlib.pyplot as plt \n",
    "import pickle\n",
    "\n",
    "import os"
   ]
  },
  {
   "cell_type": "markdown",
   "metadata": {},
   "source": [
    "<h1> Base de datos DANIEL-SAN </h1>"
   ]
  },
  {
   "cell_type": "markdown",
   "metadata": {},
   "source": [
    "<h3> 1. Lectura de los datos </h3>"
   ]
  },
  {
   "cell_type": "code",
   "execution_count": 1788,
   "metadata": {},
   "outputs": [],
   "source": [
    "df_aguacate = pd.read_excel('/home/sistemic/Documents/12vo_Semestre/FundamentosIC/Avance2/frutas/Aguacate.xlsx')\n",
    "df_banano = pd.read_excel('/home/sistemic/Documents/12vo_Semestre/FundamentosIC/Avance2/frutas/Banano.xlsx')\n",
    "df_fresa = pd.read_excel('/home/sistemic/Documents/12vo_Semestre/FundamentosIC/Avance2/frutas/Fresa.xlsx')\n",
    "df_limon = pd.read_excel('/home/sistemic/Documents/12vo_Semestre/FundamentosIC/Avance2/frutas/Limon.xlsx')\n",
    "df_mango = pd.read_excel('/home/sistemic/Documents/12vo_Semestre/FundamentosIC/Avance2/frutas/Mango.xlsx')\n",
    "df_manzana = pd.read_excel('/home/sistemic/Documents/12vo_Semestre/FundamentosIC/Avance2/frutas/Manzana.xlsx')\n",
    "df_pera = pd.read_excel('/home/sistemic/Documents/12vo_Semestre/FundamentosIC/Avance2/frutas/Pera.xlsx')\n",
    "df_tomate = pd.read_excel('/home/sistemic/Documents/12vo_Semestre/FundamentosIC/Avance2/frutas/Tomate.xlsx')\n",
    "df_uchuva = pd.read_excel('/home/sistemic/Documents/12vo_Semestre/FundamentosIC/Avance2/frutas/Uchuva.xlsx')\n",
    "df_uva = pd.read_excel('/home/sistemic/Documents/12vo_Semestre/FundamentosIC/Avance2/frutas/Uva.xlsx')\n"
   ]
  },
  {
   "cell_type": "code",
   "execution_count": 1789,
   "metadata": {},
   "outputs": [],
   "source": [
    "df_frutas =  pd.DataFrame(columns=['index', 'clase', 'azul', 'verde', 'rojo', 'area', 'ratio', 'textura','perimetro'])\n",
    "df_frutas = pd.concat([df_frutas,df_aguacate],ignore_index=True)\n",
    "df_frutas = pd.concat([df_frutas,df_banano],ignore_index=True)\n",
    "df_frutas = pd.concat([df_frutas,df_fresa],ignore_index=True)\n",
    "df_frutas = pd.concat([df_frutas,df_limon],ignore_index=True)\n",
    "df_frutas = pd.concat([df_frutas,df_mango],ignore_index=True)\n",
    "df_frutas = pd.concat([df_frutas,df_manzana],ignore_index=True)\n",
    "df_frutas = pd.concat([df_frutas,df_pera],ignore_index=True)\n",
    "df_frutas = pd.concat([df_frutas,df_tomate],ignore_index=True)\n",
    "df_frutas = pd.concat([df_frutas,df_uchuva],ignore_index=True)\n",
    "df_frutas = pd.concat([df_frutas,df_uva],ignore_index=True)\n",
    "df_frutas.drop(columns='index',inplace=True)\n",
    "df_frutas.to_excel('/home/sistemic/Documents/12vo_Semestre/FundamentosIC/Avance3/FrutasDataset_Completo.xlsx') # Save DataFrame in xlsx\n",
    "pickle.dump(df_frutas, open('Frutas_Dataset_Completo.pkl', 'wb'))"
   ]
  },
  {
   "cell_type": "markdown",
   "metadata": {},
   "source": [
    "<h3> 2. Limpieza de la base de datos </h3>"
   ]
  },
  {
   "cell_type": "code",
   "execution_count": 1790,
   "metadata": {},
   "outputs": [],
   "source": [
    "df_aguacate.drop(columns='Unnamed: 0',inplace=True)\n",
    "df_banano.drop(columns='Unnamed: 0',inplace=True)\n",
    "df_fresa.drop(columns='Unnamed: 0',inplace=True)\n",
    "df_limon.drop(columns='Unnamed: 0',inplace=True)\n",
    "df_mango.drop(columns='Unnamed: 0',inplace=True)\n",
    "df_manzana.drop(columns='Unnamed: 0',inplace=True)\n",
    "df_pera.drop(columns='Unnamed: 0',inplace=True)\n",
    "df_tomate.drop(columns='Unnamed: 0',inplace=True)\n",
    "df_uchuva.drop(columns='Unnamed: 0',inplace=True)\n",
    "df_uva.drop(columns='Unnamed: 0',inplace=True)"
   ]
  },
  {
   "cell_type": "code",
   "execution_count": 1791,
   "metadata": {},
   "outputs": [],
   "source": [
    "def concatenation(lista,value):\n",
    "    a = []\n",
    "    for i in range(len(lista)):\n",
    "        b = lista[i]\n",
    "        for j in lista:\n",
    "            if 0 < (b-j) <= value:\n",
    "                if i not in a:\n",
    "                    a.append(i)\n",
    "    return a"
   ]
  },
  {
   "cell_type": "code",
   "execution_count": 1792,
   "metadata": {},
   "outputs": [],
   "source": [
    "def eliminar(df,value):\n",
    "    azul = df.azul.to_list()\n",
    "    verde = df.verde.to_list()\n",
    "    rojo = df.rojo.to_list()\n",
    "    a = concatenation(azul,value)\n",
    "    v = concatenation(verde,value)\n",
    "    r = concatenation(rojo,value)\n",
    "    indices = list(set(a) & set(v) & set(r))\n",
    "    return indices"
   ]
  },
  {
   "cell_type": "code",
   "execution_count": 1793,
   "metadata": {},
   "outputs": [],
   "source": [
    "df = [df_aguacate, df_banano, df_fresa, df_limon, df_mango, df_manzana, df_pera, df_tomate, df_uchuva, df_uva]\n",
    "df_aguacate = df_aguacate.drop(df_aguacate.index[eliminar(df_aguacate,0.00029)])\n",
    "df_banano = df_banano.drop(df_banano.index[eliminar(df_banano,0.00094)])\n",
    "df_fresa = df_fresa.drop(df_fresa.index[eliminar(df_fresa,0.0008435)])\n",
    "df_limon = df_limon.drop(df_limon.index[eliminar(df_limon,0.00073)])\n",
    "df_mango = df_mango.drop(df_mango.index[eliminar(df_mango,0.000869)])\n",
    "df_manzana = df_manzana.drop(df_manzana.index[eliminar(df_manzana,0.0007472)])\n",
    "df_pera = df_pera.drop(df_pera.index[eliminar(df_pera,0.00048)])\n",
    "df_tomate = df_tomate.drop(df_tomate.index[eliminar(df_tomate,0.00054)])\n",
    "df_uchuva = df_uchuva.drop(df_uchuva.index[eliminar(df_uchuva,0.000696)])\n",
    "df_uva = df_uva.drop(df_uva.index[eliminar(df_uva,0.00042)])\n",
    "\n"
   ]
  },
  {
   "cell_type": "code",
   "execution_count": 1794,
   "metadata": {},
   "outputs": [
    {
     "name": "stdout",
     "output_type": "stream",
     "text": [
      "aguacate: 190\n",
      "banano: 186\n",
      "fresa: 180\n",
      "limon: 210\n",
      "mango: 186\n",
      "manzana: 181\n",
      "pera: 203\n",
      "tomate: 197\n",
      "uchuva: 194\n",
      "uva: 170\n"
     ]
    }
   ],
   "source": [
    "print(f'aguacate: {len(df_aguacate)}')\n",
    "print(f'banano: {len(df_banano)}')\n",
    "print(f'fresa: {len(df_fresa)}')\n",
    "print(f'limon: {len(df_limon)}')\n",
    "print(f'mango: {len(df_mango)}')\n",
    "print(f'manzana: {len(df_manzana)}')\n",
    "print(f'pera: {len(df_pera)}')\n",
    "print(f'tomate: {len(df_tomate)}')\n",
    "print(f'uchuva: {len(df_uchuva)}')\n",
    "print(f'uva: {len(df_uva)}')"
   ]
  },
  {
   "cell_type": "markdown",
   "metadata": {},
   "source": [
    "## Union Dataframes"
   ]
  },
  {
   "cell_type": "code",
   "execution_count": 1795,
   "metadata": {},
   "outputs": [
    {
     "data": {
      "text/html": [
       "<div>\n",
       "<style scoped>\n",
       "    .dataframe tbody tr th:only-of-type {\n",
       "        vertical-align: middle;\n",
       "    }\n",
       "\n",
       "    .dataframe tbody tr th {\n",
       "        vertical-align: top;\n",
       "    }\n",
       "\n",
       "    .dataframe thead th {\n",
       "        text-align: right;\n",
       "    }\n",
       "</style>\n",
       "<table border=\"1\" class=\"dataframe\">\n",
       "  <thead>\n",
       "    <tr style=\"text-align: right;\">\n",
       "      <th></th>\n",
       "      <th>clase</th>\n",
       "      <th>azul</th>\n",
       "      <th>verde</th>\n",
       "      <th>rojo</th>\n",
       "      <th>area</th>\n",
       "      <th>ratio</th>\n",
       "      <th>textura</th>\n",
       "      <th>perimetro</th>\n",
       "    </tr>\n",
       "  </thead>\n",
       "  <tbody>\n",
       "    <tr>\n",
       "      <th>0</th>\n",
       "      <td>0</td>\n",
       "      <td>0.092303</td>\n",
       "      <td>0.118585</td>\n",
       "      <td>0.219326</td>\n",
       "      <td>0.082703</td>\n",
       "      <td>0.871030</td>\n",
       "      <td>0.179955</td>\n",
       "      <td>271.065</td>\n",
       "    </tr>\n",
       "    <tr>\n",
       "      <th>1</th>\n",
       "      <td>0</td>\n",
       "      <td>0.090386</td>\n",
       "      <td>0.146211</td>\n",
       "      <td>0.186718</td>\n",
       "      <td>0.081070</td>\n",
       "      <td>0.893692</td>\n",
       "      <td>0.212410</td>\n",
       "      <td>269.025</td>\n",
       "    </tr>\n",
       "    <tr>\n",
       "      <th>2</th>\n",
       "      <td>0</td>\n",
       "      <td>0.103015</td>\n",
       "      <td>0.121969</td>\n",
       "      <td>0.244716</td>\n",
       "      <td>0.082030</td>\n",
       "      <td>0.786250</td>\n",
       "      <td>0.182013</td>\n",
       "      <td>272.595</td>\n",
       "    </tr>\n",
       "    <tr>\n",
       "      <th>3</th>\n",
       "      <td>0</td>\n",
       "      <td>0.088659</td>\n",
       "      <td>0.125691</td>\n",
       "      <td>0.234912</td>\n",
       "      <td>0.070345</td>\n",
       "      <td>0.826624</td>\n",
       "      <td>0.198149</td>\n",
       "      <td>253.215</td>\n",
       "    </tr>\n",
       "    <tr>\n",
       "      <th>4</th>\n",
       "      <td>0</td>\n",
       "      <td>0.093087</td>\n",
       "      <td>0.220885</td>\n",
       "      <td>0.265756</td>\n",
       "      <td>0.077725</td>\n",
       "      <td>0.802310</td>\n",
       "      <td>0.234382</td>\n",
       "      <td>262.140</td>\n",
       "    </tr>\n",
       "    <tr>\n",
       "      <th>...</th>\n",
       "      <td>...</td>\n",
       "      <td>...</td>\n",
       "      <td>...</td>\n",
       "      <td>...</td>\n",
       "      <td>...</td>\n",
       "      <td>...</td>\n",
       "      <td>...</td>\n",
       "      <td>...</td>\n",
       "    </tr>\n",
       "    <tr>\n",
       "      <th>1892</th>\n",
       "      <td>9</td>\n",
       "      <td>0.112687</td>\n",
       "      <td>0.109508</td>\n",
       "      <td>0.246779</td>\n",
       "      <td>0.008745</td>\n",
       "      <td>0.838123</td>\n",
       "      <td>0.190470</td>\n",
       "      <td>87.210</td>\n",
       "    </tr>\n",
       "    <tr>\n",
       "      <th>1893</th>\n",
       "      <td>9</td>\n",
       "      <td>0.105262</td>\n",
       "      <td>0.112740</td>\n",
       "      <td>0.308026</td>\n",
       "      <td>0.010388</td>\n",
       "      <td>0.927887</td>\n",
       "      <td>0.237936</td>\n",
       "      <td>67.320</td>\n",
       "    </tr>\n",
       "    <tr>\n",
       "      <th>1894</th>\n",
       "      <td>9</td>\n",
       "      <td>0.105370</td>\n",
       "      <td>0.100131</td>\n",
       "      <td>0.218052</td>\n",
       "      <td>0.006075</td>\n",
       "      <td>0.855872</td>\n",
       "      <td>0.243079</td>\n",
       "      <td>46.155</td>\n",
       "    </tr>\n",
       "    <tr>\n",
       "      <th>1895</th>\n",
       "      <td>9</td>\n",
       "      <td>0.203139</td>\n",
       "      <td>0.373066</td>\n",
       "      <td>0.581222</td>\n",
       "      <td>0.006059</td>\n",
       "      <td>0.965826</td>\n",
       "      <td>0.291010</td>\n",
       "      <td>79.815</td>\n",
       "    </tr>\n",
       "    <tr>\n",
       "      <th>1896</th>\n",
       "      <td>9</td>\n",
       "      <td>0.069751</td>\n",
       "      <td>0.070622</td>\n",
       "      <td>0.248084</td>\n",
       "      <td>0.011018</td>\n",
       "      <td>0.954223</td>\n",
       "      <td>0.162202</td>\n",
       "      <td>0.000</td>\n",
       "    </tr>\n",
       "  </tbody>\n",
       "</table>\n",
       "<p>1897 rows × 8 columns</p>\n",
       "</div>"
      ],
      "text/plain": [
       "     clase      azul     verde      rojo      area     ratio   textura  \\\n",
       "0        0  0.092303  0.118585  0.219326  0.082703  0.871030  0.179955   \n",
       "1        0  0.090386  0.146211  0.186718  0.081070  0.893692  0.212410   \n",
       "2        0  0.103015  0.121969  0.244716  0.082030  0.786250  0.182013   \n",
       "3        0  0.088659  0.125691  0.234912  0.070345  0.826624  0.198149   \n",
       "4        0  0.093087  0.220885  0.265756  0.077725  0.802310  0.234382   \n",
       "...    ...       ...       ...       ...       ...       ...       ...   \n",
       "1892     9  0.112687  0.109508  0.246779  0.008745  0.838123  0.190470   \n",
       "1893     9  0.105262  0.112740  0.308026  0.010388  0.927887  0.237936   \n",
       "1894     9  0.105370  0.100131  0.218052  0.006075  0.855872  0.243079   \n",
       "1895     9  0.203139  0.373066  0.581222  0.006059  0.965826  0.291010   \n",
       "1896     9  0.069751  0.070622  0.248084  0.011018  0.954223  0.162202   \n",
       "\n",
       "      perimetro  \n",
       "0       271.065  \n",
       "1       269.025  \n",
       "2       272.595  \n",
       "3       253.215  \n",
       "4       262.140  \n",
       "...         ...  \n",
       "1892     87.210  \n",
       "1893     67.320  \n",
       "1894     46.155  \n",
       "1895     79.815  \n",
       "1896      0.000  \n",
       "\n",
       "[1897 rows x 8 columns]"
      ]
     },
     "execution_count": 1795,
     "metadata": {},
     "output_type": "execute_result"
    }
   ],
   "source": [
    "df_frutas =  pd.DataFrame(columns=['index', 'clase', 'azul', 'verde', 'rojo', 'area', 'ratio', 'textura','perimetro'])\n",
    "df_frutas = pd.concat([df_frutas,df_aguacate],ignore_index=True)\n",
    "df_frutas = pd.concat([df_frutas,df_banano],ignore_index=True)\n",
    "df_frutas = pd.concat([df_frutas,df_fresa],ignore_index=True)\n",
    "df_frutas = pd.concat([df_frutas,df_limon],ignore_index=True)\n",
    "df_frutas = pd.concat([df_frutas,df_mango],ignore_index=True)\n",
    "df_frutas = pd.concat([df_frutas,df_manzana],ignore_index=True)\n",
    "df_frutas = pd.concat([df_frutas,df_pera],ignore_index=True)\n",
    "df_frutas = pd.concat([df_frutas,df_tomate],ignore_index=True)\n",
    "df_frutas = pd.concat([df_frutas,df_uchuva],ignore_index=True)\n",
    "df_frutas = pd.concat([df_frutas,df_uva],ignore_index=True)\n",
    "df_frutas.drop(columns='index',inplace=True)\n",
    "df_frutas"
   ]
  },
  {
   "cell_type": "code",
   "execution_count": 1796,
   "metadata": {},
   "outputs": [],
   "source": [
    "df_frutas.to_excel('/home/sistemic/Documents/12vo_Semestre/FundamentosIC/Avance3/FrutasDataset.xlsx') # Save DataFrame in xlsx\n",
    "pickle.dump(df_frutas, open('Frutas_Dataset.pkl', 'wb'))"
   ]
  },
  {
   "cell_type": "code",
   "execution_count": null,
   "metadata": {},
   "outputs": [],
   "source": []
  }
 ],
 "metadata": {
  "kernelspec": {
   "display_name": "Python 3.8.10 64-bit",
   "language": "python",
   "name": "python3"
  },
  "language_info": {
   "codemirror_mode": {
    "name": "ipython",
    "version": 3
   },
   "file_extension": ".py",
   "mimetype": "text/x-python",
   "name": "python",
   "nbconvert_exporter": "python",
   "pygments_lexer": "ipython3",
   "version": "3.8.10"
  },
  "orig_nbformat": 4,
  "vscode": {
   "interpreter": {
    "hash": "916dbcbb3f70747c44a77c7bcd40155683ae19c65e1c03b4aa3499c5328201f1"
   }
  }
 },
 "nbformat": 4,
 "nbformat_minor": 2
}
